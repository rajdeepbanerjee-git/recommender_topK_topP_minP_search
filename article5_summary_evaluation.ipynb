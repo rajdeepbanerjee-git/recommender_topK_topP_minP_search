{
  "nbformat": 4,
  "nbformat_minor": 0,
  "metadata": {
    "colab": {
      "provenance": [],
      "authorship_tag": "ABX9TyOgXttum+s4d2HtEWwm9gh0",
      "include_colab_link": true
    },
    "kernelspec": {
      "name": "python3",
      "display_name": "Python 3"
    },
    "language_info": {
      "name": "python"
    }
  },
  "cells": [
    {
      "cell_type": "markdown",
      "metadata": {
        "id": "view-in-github",
        "colab_type": "text"
      },
      "source": [
        "<a href=\"https://colab.research.google.com/github/rajdeepbanerjee-git/recommender_topK_topP_minP_search/blob/main/article5_summary_evaluation.ipynb\" target=\"_parent\"><img src=\"https://colab.research.google.com/assets/colab-badge.svg\" alt=\"Open In Colab\"/></a>"
      ]
    },
    {
      "cell_type": "code",
      "source": [
        "!pip install sentence_transformers"
      ],
      "metadata": {
        "colab": {
          "base_uri": "https://localhost:8080/"
        },
        "collapsed": true,
        "id": "yasujt6WOVai",
        "outputId": "83d4c788-a435-49ac-cbb0-870803ba7008"
      },
      "execution_count": 1,
      "outputs": [
        {
          "output_type": "stream",
          "name": "stdout",
          "text": [
            "Collecting sentence_transformers\n",
            "  Downloading sentence_transformers-3.0.1-py3-none-any.whl.metadata (10 kB)\n",
            "Requirement already satisfied: transformers<5.0.0,>=4.34.0 in /usr/local/lib/python3.10/dist-packages (from sentence_transformers) (4.42.4)\n",
            "Requirement already satisfied: tqdm in /usr/local/lib/python3.10/dist-packages (from sentence_transformers) (4.66.5)\n",
            "Requirement already satisfied: torch>=1.11.0 in /usr/local/lib/python3.10/dist-packages (from sentence_transformers) (2.4.0+cu121)\n",
            "Requirement already satisfied: numpy in /usr/local/lib/python3.10/dist-packages (from sentence_transformers) (1.26.4)\n",
            "Requirement already satisfied: scikit-learn in /usr/local/lib/python3.10/dist-packages (from sentence_transformers) (1.3.2)\n",
            "Requirement already satisfied: scipy in /usr/local/lib/python3.10/dist-packages (from sentence_transformers) (1.13.1)\n",
            "Requirement already satisfied: huggingface-hub>=0.15.1 in /usr/local/lib/python3.10/dist-packages (from sentence_transformers) (0.23.5)\n",
            "Requirement already satisfied: Pillow in /usr/local/lib/python3.10/dist-packages (from sentence_transformers) (9.4.0)\n",
            "Requirement already satisfied: filelock in /usr/local/lib/python3.10/dist-packages (from huggingface-hub>=0.15.1->sentence_transformers) (3.15.4)\n",
            "Requirement already satisfied: fsspec>=2023.5.0 in /usr/local/lib/python3.10/dist-packages (from huggingface-hub>=0.15.1->sentence_transformers) (2024.6.1)\n",
            "Requirement already satisfied: packaging>=20.9 in /usr/local/lib/python3.10/dist-packages (from huggingface-hub>=0.15.1->sentence_transformers) (24.1)\n",
            "Requirement already satisfied: pyyaml>=5.1 in /usr/local/lib/python3.10/dist-packages (from huggingface-hub>=0.15.1->sentence_transformers) (6.0.2)\n",
            "Requirement already satisfied: requests in /usr/local/lib/python3.10/dist-packages (from huggingface-hub>=0.15.1->sentence_transformers) (2.32.3)\n",
            "Requirement already satisfied: typing-extensions>=3.7.4.3 in /usr/local/lib/python3.10/dist-packages (from huggingface-hub>=0.15.1->sentence_transformers) (4.12.2)\n",
            "Requirement already satisfied: sympy in /usr/local/lib/python3.10/dist-packages (from torch>=1.11.0->sentence_transformers) (1.13.2)\n",
            "Requirement already satisfied: networkx in /usr/local/lib/python3.10/dist-packages (from torch>=1.11.0->sentence_transformers) (3.3)\n",
            "Requirement already satisfied: jinja2 in /usr/local/lib/python3.10/dist-packages (from torch>=1.11.0->sentence_transformers) (3.1.4)\n",
            "Requirement already satisfied: regex!=2019.12.17 in /usr/local/lib/python3.10/dist-packages (from transformers<5.0.0,>=4.34.0->sentence_transformers) (2024.5.15)\n",
            "Requirement already satisfied: safetensors>=0.4.1 in /usr/local/lib/python3.10/dist-packages (from transformers<5.0.0,>=4.34.0->sentence_transformers) (0.4.4)\n",
            "Requirement already satisfied: tokenizers<0.20,>=0.19 in /usr/local/lib/python3.10/dist-packages (from transformers<5.0.0,>=4.34.0->sentence_transformers) (0.19.1)\n",
            "Requirement already satisfied: joblib>=1.1.1 in /usr/local/lib/python3.10/dist-packages (from scikit-learn->sentence_transformers) (1.4.2)\n",
            "Requirement already satisfied: threadpoolctl>=2.0.0 in /usr/local/lib/python3.10/dist-packages (from scikit-learn->sentence_transformers) (3.5.0)\n",
            "Requirement already satisfied: MarkupSafe>=2.0 in /usr/local/lib/python3.10/dist-packages (from jinja2->torch>=1.11.0->sentence_transformers) (2.1.5)\n",
            "Requirement already satisfied: charset-normalizer<4,>=2 in /usr/local/lib/python3.10/dist-packages (from requests->huggingface-hub>=0.15.1->sentence_transformers) (3.3.2)\n",
            "Requirement already satisfied: idna<4,>=2.5 in /usr/local/lib/python3.10/dist-packages (from requests->huggingface-hub>=0.15.1->sentence_transformers) (3.7)\n",
            "Requirement already satisfied: urllib3<3,>=1.21.1 in /usr/local/lib/python3.10/dist-packages (from requests->huggingface-hub>=0.15.1->sentence_transformers) (2.0.7)\n",
            "Requirement already satisfied: certifi>=2017.4.17 in /usr/local/lib/python3.10/dist-packages (from requests->huggingface-hub>=0.15.1->sentence_transformers) (2024.7.4)\n",
            "Requirement already satisfied: mpmath<1.4,>=1.1.0 in /usr/local/lib/python3.10/dist-packages (from sympy->torch>=1.11.0->sentence_transformers) (1.3.0)\n",
            "Downloading sentence_transformers-3.0.1-py3-none-any.whl (227 kB)\n",
            "\u001b[2K   \u001b[90m━━━━━━━━━━━━━━━━━━━━━━━━━━━━━━━━━━━━━━━━\u001b[0m \u001b[32m227.1/227.1 kB\u001b[0m \u001b[31m2.6 MB/s\u001b[0m eta \u001b[36m0:00:00\u001b[0m\n",
            "\u001b[?25hInstalling collected packages: sentence_transformers\n",
            "Successfully installed sentence_transformers-3.0.1\n"
          ]
        }
      ]
    },
    {
      "cell_type": "code",
      "source": [
        "!pip install rouge"
      ],
      "metadata": {
        "colab": {
          "base_uri": "https://localhost:8080/"
        },
        "id": "C4LTdw8oOoPA",
        "outputId": "cb404549-239d-45c4-b78b-d4ad67e91c44"
      },
      "execution_count": 3,
      "outputs": [
        {
          "output_type": "stream",
          "name": "stdout",
          "text": [
            "Collecting rouge\n",
            "  Downloading rouge-1.0.1-py3-none-any.whl.metadata (4.1 kB)\n",
            "Requirement already satisfied: six in /usr/local/lib/python3.10/dist-packages (from rouge) (1.16.0)\n",
            "Downloading rouge-1.0.1-py3-none-any.whl (13 kB)\n",
            "Installing collected packages: rouge\n",
            "Successfully installed rouge-1.0.1\n"
          ]
        }
      ]
    },
    {
      "cell_type": "code",
      "source": [
        "import numpy as np\n",
        "import pandas as pd\n",
        "\n",
        "import matplotlib.pyplot as plt\n",
        "\n",
        "from rouge import Rouge\n",
        "from nltk.translate.bleu_score import sentence_bleu\n",
        "from sentence_transformers import SentenceTransformer, util"
      ],
      "metadata": {
        "colab": {
          "base_uri": "https://localhost:8080/"
        },
        "id": "DnKywqFDNJgy",
        "outputId": "1e25a94c-8b4e-459a-b070-586556c4d25e"
      },
      "execution_count": 4,
      "outputs": [
        {
          "output_type": "stream",
          "name": "stderr",
          "text": [
            "/usr/local/lib/python3.10/dist-packages/sentence_transformers/cross_encoder/CrossEncoder.py:11: TqdmExperimentalWarning: Using `tqdm.autonotebook.tqdm` in notebook mode. Use `tqdm.tqdm` instead to force console mode (e.g. in jupyter console)\n",
            "  from tqdm.autonotebook import tqdm, trange\n"
          ]
        }
      ]
    },
    {
      "cell_type": "code",
      "source": [
        "# load generated summaries\n",
        "summary_results = pd.read_csv('/content/all_results_fin.csv')\n",
        "summary_results.head()"
      ],
      "metadata": {
        "colab": {
          "base_uri": "https://localhost:8080/",
          "height": 293
        },
        "id": "pgWYIMaVNJdR",
        "outputId": "389ba4b9-ab07-4c6b-a9da-dd3e9abd5d14"
      },
      "execution_count": 5,
      "outputs": [
        {
          "output_type": "execute_result",
          "data": {
            "text/plain": [
              "              user_query                                           top_k_gt  \\\n",
              "0    JIRA software issue  [\"Dear <name>,\\n\\nThank you for reaching out. ...   \n",
              "1           server issue  ['Dear <name>,\\n\\nThank you for reaching out. ...   \n",
              "2       windows os issue  [\"Dear Customer,\\n\\nWe apologize for the incon...   \n",
              "3     cisco router issue  ['Dear <name>,\\n\\nThank you for contacting Cus...   \n",
              "4  laptop hardware issue  [\"Dear <name>,\\n\\nThank you for reaching out t...   \n",
              "\n",
              "                                            top_p_gt  \\\n",
              "0  [\"Dear <name>,\\n\\nThank you for reaching out. ...   \n",
              "1  ['Dear <name>,\\n\\nThank you for reaching out. ...   \n",
              "2  [\"Dear Customer,\\n\\nWe apologize for the incon...   \n",
              "3  ['Dear <name>,\\n\\nThank you for contacting Cus...   \n",
              "4  [\"Dear <name>,\\n\\nThank you for reaching out t...   \n",
              "\n",
              "                                            min_p_gt  \\\n",
              "0  [\"Dear <name>,\\n\\nThank you for reaching out. ...   \n",
              "1  ['Dear <name>,\\n\\nThank you for reaching out. ...   \n",
              "2  [\"Dear Customer,\\n\\nWe apologize for the incon...   \n",
              "3  ['Dear <name>,\\n\\nThank you for contacting Cus...   \n",
              "4  [\"Dear <name>,\\n\\nThank you for reaching out t...   \n",
              "\n",
              "                                       summary_top_k  \\\n",
              "0  our team is investigating the access problem w...   \n",
              "1  IT Services Customer Support understands the u...   \n",
              "2  restart your computer and press F8 repeatedly,...   \n",
              "3  Ensure that your router is connected to a work...   \n",
              "4  name>, Sorry to hear about the screen flickeri...   \n",
              "\n",
              "                                       summary_top_p  \\\n",
              "0  our team is investigating the access problem w...   \n",
              "1  IT Services Customer Support received your rep...   \n",
              "2  name>, We're sorry to hear about the blue scre...   \n",
              "3  check that your router is connected to a worki...   \n",
              "4  name>, We are sorry to hear about the flickeri...   \n",
              "\n",
              "                                       summary_min_p  \n",
              "0  our team is investigating the access problem w...  \n",
              "1  server configuration changes for name>'s IT Co...  \n",
              "2  Dell xps 13 9310 has blue screen error, please...  \n",
              "3  check that the power button on your router is ...  \n",
              "4  screen flickering on new Dell xps 13 9310 lapt...  "
            ],
            "text/html": [
              "\n",
              "  <div id=\"df-5538de0d-e2b6-4f06-afa0-7958e52d32f3\" class=\"colab-df-container\">\n",
              "    <div>\n",
              "<style scoped>\n",
              "    .dataframe tbody tr th:only-of-type {\n",
              "        vertical-align: middle;\n",
              "    }\n",
              "\n",
              "    .dataframe tbody tr th {\n",
              "        vertical-align: top;\n",
              "    }\n",
              "\n",
              "    .dataframe thead th {\n",
              "        text-align: right;\n",
              "    }\n",
              "</style>\n",
              "<table border=\"1\" class=\"dataframe\">\n",
              "  <thead>\n",
              "    <tr style=\"text-align: right;\">\n",
              "      <th></th>\n",
              "      <th>user_query</th>\n",
              "      <th>top_k_gt</th>\n",
              "      <th>top_p_gt</th>\n",
              "      <th>min_p_gt</th>\n",
              "      <th>summary_top_k</th>\n",
              "      <th>summary_top_p</th>\n",
              "      <th>summary_min_p</th>\n",
              "    </tr>\n",
              "  </thead>\n",
              "  <tbody>\n",
              "    <tr>\n",
              "      <th>0</th>\n",
              "      <td>JIRA software issue</td>\n",
              "      <td>[\"Dear &lt;name&gt;,\\n\\nThank you for reaching out. ...</td>\n",
              "      <td>[\"Dear &lt;name&gt;,\\n\\nThank you for reaching out. ...</td>\n",
              "      <td>[\"Dear &lt;name&gt;,\\n\\nThank you for reaching out. ...</td>\n",
              "      <td>our team is investigating the access problem w...</td>\n",
              "      <td>our team is investigating the access problem w...</td>\n",
              "      <td>our team is investigating the access problem w...</td>\n",
              "    </tr>\n",
              "    <tr>\n",
              "      <th>1</th>\n",
              "      <td>server issue</td>\n",
              "      <td>['Dear &lt;name&gt;,\\n\\nThank you for reaching out. ...</td>\n",
              "      <td>['Dear &lt;name&gt;,\\n\\nThank you for reaching out. ...</td>\n",
              "      <td>['Dear &lt;name&gt;,\\n\\nThank you for reaching out. ...</td>\n",
              "      <td>IT Services Customer Support understands the u...</td>\n",
              "      <td>IT Services Customer Support received your rep...</td>\n",
              "      <td>server configuration changes for name&gt;'s IT Co...</td>\n",
              "    </tr>\n",
              "    <tr>\n",
              "      <th>2</th>\n",
              "      <td>windows os issue</td>\n",
              "      <td>[\"Dear Customer,\\n\\nWe apologize for the incon...</td>\n",
              "      <td>[\"Dear Customer,\\n\\nWe apologize for the incon...</td>\n",
              "      <td>[\"Dear Customer,\\n\\nWe apologize for the incon...</td>\n",
              "      <td>restart your computer and press F8 repeatedly,...</td>\n",
              "      <td>name&gt;, We're sorry to hear about the blue scre...</td>\n",
              "      <td>Dell xps 13 9310 has blue screen error, please...</td>\n",
              "    </tr>\n",
              "    <tr>\n",
              "      <th>3</th>\n",
              "      <td>cisco router issue</td>\n",
              "      <td>['Dear &lt;name&gt;,\\n\\nThank you for contacting Cus...</td>\n",
              "      <td>['Dear &lt;name&gt;,\\n\\nThank you for contacting Cus...</td>\n",
              "      <td>['Dear &lt;name&gt;,\\n\\nThank you for contacting Cus...</td>\n",
              "      <td>Ensure that your router is connected to a work...</td>\n",
              "      <td>check that your router is connected to a worki...</td>\n",
              "      <td>check that the power button on your router is ...</td>\n",
              "    </tr>\n",
              "    <tr>\n",
              "      <th>4</th>\n",
              "      <td>laptop hardware issue</td>\n",
              "      <td>[\"Dear &lt;name&gt;,\\n\\nThank you for reaching out t...</td>\n",
              "      <td>[\"Dear &lt;name&gt;,\\n\\nThank you for reaching out t...</td>\n",
              "      <td>[\"Dear &lt;name&gt;,\\n\\nThank you for reaching out t...</td>\n",
              "      <td>name&gt;, Sorry to hear about the screen flickeri...</td>\n",
              "      <td>name&gt;, We are sorry to hear about the flickeri...</td>\n",
              "      <td>screen flickering on new Dell xps 13 9310 lapt...</td>\n",
              "    </tr>\n",
              "  </tbody>\n",
              "</table>\n",
              "</div>\n",
              "    <div class=\"colab-df-buttons\">\n",
              "\n",
              "  <div class=\"colab-df-container\">\n",
              "    <button class=\"colab-df-convert\" onclick=\"convertToInteractive('df-5538de0d-e2b6-4f06-afa0-7958e52d32f3')\"\n",
              "            title=\"Convert this dataframe to an interactive table.\"\n",
              "            style=\"display:none;\">\n",
              "\n",
              "  <svg xmlns=\"http://www.w3.org/2000/svg\" height=\"24px\" viewBox=\"0 -960 960 960\">\n",
              "    <path d=\"M120-120v-720h720v720H120Zm60-500h600v-160H180v160Zm220 220h160v-160H400v160Zm0 220h160v-160H400v160ZM180-400h160v-160H180v160Zm440 0h160v-160H620v160ZM180-180h160v-160H180v160Zm440 0h160v-160H620v160Z\"/>\n",
              "  </svg>\n",
              "    </button>\n",
              "\n",
              "  <style>\n",
              "    .colab-df-container {\n",
              "      display:flex;\n",
              "      gap: 12px;\n",
              "    }\n",
              "\n",
              "    .colab-df-convert {\n",
              "      background-color: #E8F0FE;\n",
              "      border: none;\n",
              "      border-radius: 50%;\n",
              "      cursor: pointer;\n",
              "      display: none;\n",
              "      fill: #1967D2;\n",
              "      height: 32px;\n",
              "      padding: 0 0 0 0;\n",
              "      width: 32px;\n",
              "    }\n",
              "\n",
              "    .colab-df-convert:hover {\n",
              "      background-color: #E2EBFA;\n",
              "      box-shadow: 0px 1px 2px rgba(60, 64, 67, 0.3), 0px 1px 3px 1px rgba(60, 64, 67, 0.15);\n",
              "      fill: #174EA6;\n",
              "    }\n",
              "\n",
              "    .colab-df-buttons div {\n",
              "      margin-bottom: 4px;\n",
              "    }\n",
              "\n",
              "    [theme=dark] .colab-df-convert {\n",
              "      background-color: #3B4455;\n",
              "      fill: #D2E3FC;\n",
              "    }\n",
              "\n",
              "    [theme=dark] .colab-df-convert:hover {\n",
              "      background-color: #434B5C;\n",
              "      box-shadow: 0px 1px 3px 1px rgba(0, 0, 0, 0.15);\n",
              "      filter: drop-shadow(0px 1px 2px rgba(0, 0, 0, 0.3));\n",
              "      fill: #FFFFFF;\n",
              "    }\n",
              "  </style>\n",
              "\n",
              "    <script>\n",
              "      const buttonEl =\n",
              "        document.querySelector('#df-5538de0d-e2b6-4f06-afa0-7958e52d32f3 button.colab-df-convert');\n",
              "      buttonEl.style.display =\n",
              "        google.colab.kernel.accessAllowed ? 'block' : 'none';\n",
              "\n",
              "      async function convertToInteractive(key) {\n",
              "        const element = document.querySelector('#df-5538de0d-e2b6-4f06-afa0-7958e52d32f3');\n",
              "        const dataTable =\n",
              "          await google.colab.kernel.invokeFunction('convertToInteractive',\n",
              "                                                    [key], {});\n",
              "        if (!dataTable) return;\n",
              "\n",
              "        const docLinkHtml = 'Like what you see? Visit the ' +\n",
              "          '<a target=\"_blank\" href=https://colab.research.google.com/notebooks/data_table.ipynb>data table notebook</a>'\n",
              "          + ' to learn more about interactive tables.';\n",
              "        element.innerHTML = '';\n",
              "        dataTable['output_type'] = 'display_data';\n",
              "        await google.colab.output.renderOutput(dataTable, element);\n",
              "        const docLink = document.createElement('div');\n",
              "        docLink.innerHTML = docLinkHtml;\n",
              "        element.appendChild(docLink);\n",
              "      }\n",
              "    </script>\n",
              "  </div>\n",
              "\n",
              "\n",
              "<div id=\"df-fa4ac8ca-a496-4737-989a-a2a227388cc0\">\n",
              "  <button class=\"colab-df-quickchart\" onclick=\"quickchart('df-fa4ac8ca-a496-4737-989a-a2a227388cc0')\"\n",
              "            title=\"Suggest charts\"\n",
              "            style=\"display:none;\">\n",
              "\n",
              "<svg xmlns=\"http://www.w3.org/2000/svg\" height=\"24px\"viewBox=\"0 0 24 24\"\n",
              "     width=\"24px\">\n",
              "    <g>\n",
              "        <path d=\"M19 3H5c-1.1 0-2 .9-2 2v14c0 1.1.9 2 2 2h14c1.1 0 2-.9 2-2V5c0-1.1-.9-2-2-2zM9 17H7v-7h2v7zm4 0h-2V7h2v10zm4 0h-2v-4h2v4z\"/>\n",
              "    </g>\n",
              "</svg>\n",
              "  </button>\n",
              "\n",
              "<style>\n",
              "  .colab-df-quickchart {\n",
              "      --bg-color: #E8F0FE;\n",
              "      --fill-color: #1967D2;\n",
              "      --hover-bg-color: #E2EBFA;\n",
              "      --hover-fill-color: #174EA6;\n",
              "      --disabled-fill-color: #AAA;\n",
              "      --disabled-bg-color: #DDD;\n",
              "  }\n",
              "\n",
              "  [theme=dark] .colab-df-quickchart {\n",
              "      --bg-color: #3B4455;\n",
              "      --fill-color: #D2E3FC;\n",
              "      --hover-bg-color: #434B5C;\n",
              "      --hover-fill-color: #FFFFFF;\n",
              "      --disabled-bg-color: #3B4455;\n",
              "      --disabled-fill-color: #666;\n",
              "  }\n",
              "\n",
              "  .colab-df-quickchart {\n",
              "    background-color: var(--bg-color);\n",
              "    border: none;\n",
              "    border-radius: 50%;\n",
              "    cursor: pointer;\n",
              "    display: none;\n",
              "    fill: var(--fill-color);\n",
              "    height: 32px;\n",
              "    padding: 0;\n",
              "    width: 32px;\n",
              "  }\n",
              "\n",
              "  .colab-df-quickchart:hover {\n",
              "    background-color: var(--hover-bg-color);\n",
              "    box-shadow: 0 1px 2px rgba(60, 64, 67, 0.3), 0 1px 3px 1px rgba(60, 64, 67, 0.15);\n",
              "    fill: var(--button-hover-fill-color);\n",
              "  }\n",
              "\n",
              "  .colab-df-quickchart-complete:disabled,\n",
              "  .colab-df-quickchart-complete:disabled:hover {\n",
              "    background-color: var(--disabled-bg-color);\n",
              "    fill: var(--disabled-fill-color);\n",
              "    box-shadow: none;\n",
              "  }\n",
              "\n",
              "  .colab-df-spinner {\n",
              "    border: 2px solid var(--fill-color);\n",
              "    border-color: transparent;\n",
              "    border-bottom-color: var(--fill-color);\n",
              "    animation:\n",
              "      spin 1s steps(1) infinite;\n",
              "  }\n",
              "\n",
              "  @keyframes spin {\n",
              "    0% {\n",
              "      border-color: transparent;\n",
              "      border-bottom-color: var(--fill-color);\n",
              "      border-left-color: var(--fill-color);\n",
              "    }\n",
              "    20% {\n",
              "      border-color: transparent;\n",
              "      border-left-color: var(--fill-color);\n",
              "      border-top-color: var(--fill-color);\n",
              "    }\n",
              "    30% {\n",
              "      border-color: transparent;\n",
              "      border-left-color: var(--fill-color);\n",
              "      border-top-color: var(--fill-color);\n",
              "      border-right-color: var(--fill-color);\n",
              "    }\n",
              "    40% {\n",
              "      border-color: transparent;\n",
              "      border-right-color: var(--fill-color);\n",
              "      border-top-color: var(--fill-color);\n",
              "    }\n",
              "    60% {\n",
              "      border-color: transparent;\n",
              "      border-right-color: var(--fill-color);\n",
              "    }\n",
              "    80% {\n",
              "      border-color: transparent;\n",
              "      border-right-color: var(--fill-color);\n",
              "      border-bottom-color: var(--fill-color);\n",
              "    }\n",
              "    90% {\n",
              "      border-color: transparent;\n",
              "      border-bottom-color: var(--fill-color);\n",
              "    }\n",
              "  }\n",
              "</style>\n",
              "\n",
              "  <script>\n",
              "    async function quickchart(key) {\n",
              "      const quickchartButtonEl =\n",
              "        document.querySelector('#' + key + ' button');\n",
              "      quickchartButtonEl.disabled = true;  // To prevent multiple clicks.\n",
              "      quickchartButtonEl.classList.add('colab-df-spinner');\n",
              "      try {\n",
              "        const charts = await google.colab.kernel.invokeFunction(\n",
              "            'suggestCharts', [key], {});\n",
              "      } catch (error) {\n",
              "        console.error('Error during call to suggestCharts:', error);\n",
              "      }\n",
              "      quickchartButtonEl.classList.remove('colab-df-spinner');\n",
              "      quickchartButtonEl.classList.add('colab-df-quickchart-complete');\n",
              "    }\n",
              "    (() => {\n",
              "      let quickchartButtonEl =\n",
              "        document.querySelector('#df-fa4ac8ca-a496-4737-989a-a2a227388cc0 button');\n",
              "      quickchartButtonEl.style.display =\n",
              "        google.colab.kernel.accessAllowed ? 'block' : 'none';\n",
              "    })();\n",
              "  </script>\n",
              "</div>\n",
              "\n",
              "    </div>\n",
              "  </div>\n"
            ],
            "application/vnd.google.colaboratory.intrinsic+json": {
              "type": "dataframe",
              "variable_name": "summary_results",
              "summary": "{\n  \"name\": \"summary_results\",\n  \"rows\": 10,\n  \"fields\": [\n    {\n      \"column\": \"user_query\",\n      \"properties\": {\n        \"dtype\": \"string\",\n        \"num_unique_values\": 10,\n        \"samples\": [\n          \"desktop monitor issue\",\n          \"server issue\",\n          \"laptop software visual studio problem\"\n        ],\n        \"semantic_type\": \"\",\n        \"description\": \"\"\n      }\n    },\n    {\n      \"column\": \"top_k_gt\",\n      \"properties\": {\n        \"dtype\": \"string\",\n        \"num_unique_values\": 10,\n        \"samples\": [\n          \"[\\\"Hello <name>,\\\\nPlease try the following steps:\\\\n1. Ensure the external monitor is set to the correct input source.\\\\n2. Use a different cable or port.\\\\n3. Update the BIOS and graphics drivers from Dell's support website.\\\\nIf the issue persists, please contact us again.\\\\n\\\\nBest regards, \\\\nSupport Team\\\", \\\"Dear <name>,\\\\n\\\\nWe regret the inconvenience caused by the flickering screen on your Dell XPS 13 9310. Please try updating your graphics driver, adjusting display settings, or running a system diagnostic. If these steps don't work, contact our support team at <tel_num> for further assistance.\\\\n\\\\nRegards,\\\\nCustomer Support\\\", 'Dear <name>,\\\\nSorry to hear about the screen flickering on your LG OLED C1. To troubleshoot, please ensure your TV firmware is updated, check HDMI cables and connections, and try adjusting the HDR settings. If the issue persists, please contact LG support for further assistance.\\\\n\\\\nBest regards,\\\\nCustomer Support', \\\"Dear <name>,\\\\n\\\\nThank you for reaching out. We're sorry to hear about the screen flickering issue with your Microsoft Surface Pro 7. Please visit our service center website and book an appointment for a repair or replacement. If you need further assistance, don't hesitate to reply to this email.\\\\n\\\\nBest regards,\\\\nCustomer Support\\\", 'Dear <name>,\\\\n\\\\nThank you for reaching out. Please try the following steps to resolve the screen flickering issue on your Dell XPS 13 9310:\\\\n1. Update your graphics drivers.\\\\n2. Adjust the display refresh rate in settings.\\\\n3. Restart your laptop.\\\\n\\\\nIf the issue persists, please contact us again.\\\\n\\\\nBest regards,\\\\nIT Services Support']\",\n          \"['Dear <name>,\\\\n\\\\nThank you for reaching out. We understand the urgency of your request. Our team will prioritize the server configuration changes for your IT Consulting Service project. Please expect an update soon.\\\\n\\\\nBest regards,\\\\nIT Services Customer Support', 'Dear <name>,\\\\n\\\\nThank you for contacting IT Services Customer Support. We understand the urgency of the server downtime impacting your ticket system and IT Consulting Service operations. Our team is prioritizing this request and will provide immediate assistance to resolve the issue and restore normal functionality.\\\\n\\\\nBest regards,\\\\nIT Services Customer Support', \\\"Dear <name>,\\\\n\\\\nThank you for your email. We'll review the server configuration settings for <name>'s IT Consulting Service. Please provide additional details about the specific issues experienced with the collaboration tools. Meanwhile, ensure that all systems are updated with the latest patches. We will contact you shortly with further instructions.\\\\n\\\\nBest regards,\\\\nIT Services Support\\\", 'Dear <name>,\\\\n\\\\nWe\\u2019ve received your report regarding the MySQL 8.0.30 database downtime. Our team is prioritizing this issue and will work swiftly to restore service. We will provide updates as soon as possible.\\\\n\\\\nBest regards,\\\\nService Desk Team', \\\"Dear <name>,\\\\n\\\\nThank you for reaching out. We're sorry to hear about the server error affecting your IT Consulting Service. Our team is investigating the issue and will provide a solution promptly. We appreciate your patience.\\\\n\\\\nBest regards,\\\\nCustomer Support\\\"]\",\n          \"['Dear <name>, \\\\n\\\\nThank you for reaching out. We have escalated your issue for priority handling. Someone from our team will contact you shortly to resolve this.\\\\n\\\\nBest regards,\\\\nCustomer Support', 'Dear <name>,\\\\n\\\\nWe apologize for the inconvenience. Please try disabling and re-enabling your extensions or reinstalling Visual Studio Code. If the issue persists, clear the cache and restart your system. Contact us if you need further assistance.\\\\n\\\\nBest regards,\\\\nSupport Team', \\\"Dear <name>, \\\\n\\\\nWe're sorry to hear about the freezing issues with Visual Studio Code. Please try updating to the latest version and disabling any non-essential extensions. If the issue persists, reinstall the application or check for Windows updates. Contact us with any updates.\\\\n\\\\nBest regards, \\\\nIT Services Support\\\", \\\"Dear <name>,\\\\n\\\\nWe're sorry to hear about the issues with your Dell XPS 13 9310. To assist you further, please ensure your system's BIOS and drivers are up to date. If the problem persists, we recommend performing a system diagnostic test via Dell SupportAssist. Should the issue continue, please contact us with the results for further assistance or discuss replacement options.\\\\n\\\\nThank you,\\\\nTech Online Store Support\\\", \\\"Hello <name>,\\\\n\\\\nThank you for reaching out. We're sorry to hear you're experiencing this issue. Our technical team is looking into it immediately. We will update you as soon as we have a resolution. Thank you for your patience.\\\\n\\\\nBest regards,\\\\nCustomer Support Team\\\"]\"\n        ],\n        \"semantic_type\": \"\",\n        \"description\": \"\"\n      }\n    },\n    {\n      \"column\": \"top_p_gt\",\n      \"properties\": {\n        \"dtype\": \"string\",\n        \"num_unique_values\": 10,\n        \"samples\": [\n          \"[\\\"Hello <name>,\\\\nPlease try the following steps:\\\\n1. Ensure the external monitor is set to the correct input source.\\\\n2. Use a different cable or port.\\\\n3. Update the BIOS and graphics drivers from Dell's support website.\\\\nIf the issue persists, please contact us again.\\\\n\\\\nBest regards, \\\\nSupport Team\\\", \\\"Dear <name>,\\\\n\\\\nWe regret the inconvenience caused by the flickering screen on your Dell XPS 13 9310. Please try updating your graphics driver, adjusting display settings, or running a system diagnostic. If these steps don't work, contact our support team at <tel_num> for further assistance.\\\\n\\\\nRegards,\\\\nCustomer Support\\\", 'Dear <name>,\\\\nSorry to hear about the screen flickering on your LG OLED C1. To troubleshoot, please ensure your TV firmware is updated, check HDMI cables and connections, and try adjusting the HDR settings. If the issue persists, please contact LG support for further assistance.\\\\n\\\\nBest regards,\\\\nCustomer Support', \\\"Dear <name>,\\\\n\\\\nThank you for reaching out. We're sorry to hear about the screen flickering issue with your Microsoft Surface Pro 7. Please visit our service center website and book an appointment for a repair or replacement. If you need further assistance, don't hesitate to reply to this email.\\\\n\\\\nBest regards,\\\\nCustomer Support\\\", 'Dear <name>,\\\\n\\\\nThank you for reaching out. Please try the following steps to resolve the screen flickering issue on your Dell XPS 13 9310:\\\\n1. Update your graphics drivers.\\\\n2. Adjust the display refresh rate in settings.\\\\n3. Restart your laptop.\\\\n\\\\nIf the issue persists, please contact us again.\\\\n\\\\nBest regards,\\\\nIT Services Support', 'Hello <name>,\\\\nWe have arranged a hardware diagnostics appointment for your Dell XPS 13 9310. A technician will contact you shortly. Thank you for your patience. \\\\nSincerely, \\\\n<Your Company Name> Service Team', 'Dear <name>,\\\\n\\\\nSorry to hear about the screen flickering on your Dell XPS 13 9310. We recommend updating your graphics drivers and checking for any additional Windows updates. If the issue persists, please contact our technical support for further assistance.\\\\n\\\\nBest regards,\\\\nTech Online Store Customer Support', 'Thank you for your query. Try updating your drivers and BIOS. Contact support if issue persists.', 'Hello <name>,\\\\n\\\\nThank you for reaching out. The flickering screen issue might be related to the recent update. Please try reinstalling or updating your display driver. If the issue persists, please perform a system restore to a point before the update. For further assistance or to arrange a repair, contact us at [Customer Support Hotline].\\\\n\\\\nBest regards,\\\\nCustomer Support Team']\",\n          \"['Dear <name>,\\\\n\\\\nThank you for reaching out. We understand the urgency of your request. Our team will prioritize the server configuration changes for your IT Consulting Service project. Please expect an update soon.\\\\n\\\\nBest regards,\\\\nIT Services Customer Support', 'Dear <name>,\\\\n\\\\nThank you for contacting IT Services Customer Support. We understand the urgency of the server downtime impacting your ticket system and IT Consulting Service operations. Our team is prioritizing this request and will provide immediate assistance to resolve the issue and restore normal functionality.\\\\n\\\\nBest regards,\\\\nIT Services Customer Support', \\\"Dear <name>,\\\\n\\\\nThank you for your email. We'll review the server configuration settings for <name>'s IT Consulting Service. Please provide additional details about the specific issues experienced with the collaboration tools. Meanwhile, ensure that all systems are updated with the latest patches. We will contact you shortly with further instructions.\\\\n\\\\nBest regards,\\\\nIT Services Support\\\", 'Dear <name>,\\\\n\\\\nWe\\u2019ve received your report regarding the MySQL 8.0.30 database downtime. Our team is prioritizing this issue and will work swiftly to restore service. We will provide updates as soon as possible.\\\\n\\\\nBest regards,\\\\nService Desk Team', \\\"Dear <name>,\\\\n\\\\nThank you for reaching out. We're sorry to hear about the server error affecting your IT Consulting Service. Our team is investigating the issue and will provide a solution promptly. We appreciate your patience.\\\\n\\\\nBest regards,\\\\nCustomer Support\\\", 'Dear <name>,\\\\n\\\\nThank you for reaching out. We will prioritize the performance optimization of your ticket system and provide guidance on server load distribution. Our technical team will contact you shortly to discuss the details.\\\\n\\\\nBest regards,\\\\nCustomer Support', 'Dear <name>,\\\\n\\\\nThank you for contacting us. We understand the urgency of the MySQL 8.0.30 database corruption issue affecting your operations. Our team is prioritizing your case and will address it immediately. An update will follow shortly.\\\\n\\\\nBest regards,\\\\nService Desk Team', 'Dear <name>,\\\\n\\\\nWe are currently addressing the AWS outage and will prioritize the deployment of your servers immediately to minimize disruption. Thank you for your patience.\\\\n\\\\nBest regards,\\\\nCustomer Support', \\\"Dear <name>,\\\\n\\\\nWe're sorry to hear about the EC2 instance issues you're experiencing. Our team is looking into it and will get back to you shortly with a resolution.\\\\n\\\\nBest regards,\\\\nIT Services Team\\\", 'Hello <name>,\\\\n\\\\nThank you for reaching out to us regarding the issues you are experiencing with MySQL 8.0.30 after the recent update. We truly apologize for any inconvenience this has caused.\\\\n\\\\nBased on your description, this might be linked to the encryption configurations or user permissions that could have changed during the update. Could you please verify the SSL/TLS settings and ensure your user permissions are properly configured? If you continue to face difficulties, please send us any error messages you receive.\\\\n\\\\nWe appreciate your patience and are here to help you.\\\\n\\\\nBest regards,\\\\nCustomer Support']\",\n          \"['Dear <name>, \\\\n\\\\nThank you for reaching out. We have escalated your issue for priority handling. Someone from our team will contact you shortly to resolve this.\\\\n\\\\nBest regards,\\\\nCustomer Support', 'Dear <name>,\\\\n\\\\nWe apologize for the inconvenience. Please try disabling and re-enabling your extensions or reinstalling Visual Studio Code. If the issue persists, clear the cache and restart your system. Contact us if you need further assistance.\\\\n\\\\nBest regards,\\\\nSupport Team', \\\"Dear <name>, \\\\n\\\\nWe're sorry to hear about the freezing issues with Visual Studio Code. Please try updating to the latest version and disabling any non-essential extensions. If the issue persists, reinstall the application or check for Windows updates. Contact us with any updates.\\\\n\\\\nBest regards, \\\\nIT Services Support\\\", \\\"Dear <name>,\\\\n\\\\nWe're sorry to hear about the issues with your Dell XPS 13 9310. To assist you further, please ensure your system's BIOS and drivers are up to date. If the problem persists, we recommend performing a system diagnostic test via Dell SupportAssist. Should the issue continue, please contact us with the results for further assistance or discuss replacement options.\\\\n\\\\nThank you,\\\\nTech Online Store Support\\\", \\\"Hello <name>,\\\\n\\\\nThank you for reaching out. We're sorry to hear you're experiencing this issue. Our technical team is looking into it immediately. We will update you as soon as we have a resolution. Thank you for your patience.\\\\n\\\\nBest regards,\\\\nCustomer Support Team\\\", \\\"Dear <name>,\\\\n\\\\nThank you for reaching out. We're sorry to hear about the issue. Our team is aware and currently investigating the access problem with Jira Software version 8.20. We aim to resolve this quickly to minimize disruption. We'll keep you updated on the progress.\\\\n\\\\nBest regards,\\\\nCustomer Support\\\", 'Dear <name>,\\\\n\\\\nSorry to hear about the screen flickering on your Dell XPS 13 9310. We recommend updating your graphics drivers and checking for any additional Windows updates. If the issue persists, please contact our technical support for further assistance.\\\\n\\\\nBest regards,\\\\nTech Online Store Customer Support', \\\"Dear <name>,\\\\n\\\\nWe regret the inconvenience caused by the flickering screen on your Dell XPS 13 9310. Please try updating your graphics driver, adjusting display settings, or running a system diagnostic. If these steps don't work, contact our support team at <tel_num> for further assistance.\\\\n\\\\nRegards,\\\\nCustomer Support\\\", 'Dear <name>,\\\\n\\\\nThank you for your inquiry. We are proceeding with the upgrade of Visual Studio Code to the latest available version.\\\\n\\\\nBest regards,\\\\n<company_name>']\"\n        ],\n        \"semantic_type\": \"\",\n        \"description\": \"\"\n      }\n    },\n    {\n      \"column\": \"min_p_gt\",\n      \"properties\": {\n        \"dtype\": \"string\",\n        \"num_unique_values\": 10,\n        \"samples\": [\n          \"[\\\"Hello <name>,\\\\nPlease try the following steps:\\\\n1. Ensure the external monitor is set to the correct input source.\\\\n2. Use a different cable or port.\\\\n3. Update the BIOS and graphics drivers from Dell's support website.\\\\nIf the issue persists, please contact us again.\\\\n\\\\nBest regards, \\\\nSupport Team\\\", \\\"Dear <name>,\\\\n\\\\nWe regret the inconvenience caused by the flickering screen on your Dell XPS 13 9310. Please try updating your graphics driver, adjusting display settings, or running a system diagnostic. If these steps don't work, contact our support team at <tel_num> for further assistance.\\\\n\\\\nRegards,\\\\nCustomer Support\\\", 'Dear <name>,\\\\nSorry to hear about the screen flickering on your LG OLED C1. To troubleshoot, please ensure your TV firmware is updated, check HDMI cables and connections, and try adjusting the HDR settings. If the issue persists, please contact LG support for further assistance.\\\\n\\\\nBest regards,\\\\nCustomer Support', \\\"Dear <name>,\\\\n\\\\nThank you for reaching out. We're sorry to hear about the screen flickering issue with your Microsoft Surface Pro 7. Please visit our service center website and book an appointment for a repair or replacement. If you need further assistance, don't hesitate to reply to this email.\\\\n\\\\nBest regards,\\\\nCustomer Support\\\", 'Dear <name>,\\\\n\\\\nThank you for reaching out. Please try the following steps to resolve the screen flickering issue on your Dell XPS 13 9310:\\\\n1. Update your graphics drivers.\\\\n2. Adjust the display refresh rate in settings.\\\\n3. Restart your laptop.\\\\n\\\\nIf the issue persists, please contact us again.\\\\n\\\\nBest regards,\\\\nIT Services Support', 'Hello <name>,\\\\nWe have arranged a hardware diagnostics appointment for your Dell XPS 13 9310. A technician will contact you shortly. Thank you for your patience. \\\\nSincerely, \\\\n<Your Company Name> Service Team', 'Dear <name>,\\\\n\\\\nSorry to hear about the screen flickering on your Dell XPS 13 9310. We recommend updating your graphics drivers and checking for any additional Windows updates. If the issue persists, please contact our technical support for further assistance.\\\\n\\\\nBest regards,\\\\nTech Online Store Customer Support', 'Thank you for your query. Try updating your drivers and BIOS. Contact support if issue persists.', 'Hello <name>,\\\\n\\\\nThank you for reaching out. The flickering screen issue might be related to the recent update. Please try reinstalling or updating your display driver. If the issue persists, please perform a system restore to a point before the update. For further assistance or to arrange a repair, contact us at [Customer Support Hotline].\\\\n\\\\nBest regards,\\\\nCustomer Support Team', \\\"Dear <name>,\\\\n\\\\nThank you for reaching out. Please try updating your graphics driver and BIOS via Dell's support website. If the issue persists, send us your purchase details (order number <acc_num>) for further assistance. \\\\n\\\\nBest regards,\\\\nTech Online Store Customer Support\\\"]\",\n          \"['Dear <name>,\\\\n\\\\nThank you for reaching out. We understand the urgency of your request. Our team will prioritize the server configuration changes for your IT Consulting Service project. Please expect an update soon.\\\\n\\\\nBest regards,\\\\nIT Services Customer Support', 'Dear <name>,\\\\n\\\\nThank you for contacting IT Services Customer Support. We understand the urgency of the server downtime impacting your ticket system and IT Consulting Service operations. Our team is prioritizing this request and will provide immediate assistance to resolve the issue and restore normal functionality.\\\\n\\\\nBest regards,\\\\nIT Services Customer Support', \\\"Dear <name>,\\\\n\\\\nThank you for your email. We'll review the server configuration settings for <name>'s IT Consulting Service. Please provide additional details about the specific issues experienced with the collaboration tools. Meanwhile, ensure that all systems are updated with the latest patches. We will contact you shortly with further instructions.\\\\n\\\\nBest regards,\\\\nIT Services Support\\\", 'Dear <name>,\\\\n\\\\nWe\\u2019ve received your report regarding the MySQL 8.0.30 database downtime. Our team is prioritizing this issue and will work swiftly to restore service. We will provide updates as soon as possible.\\\\n\\\\nBest regards,\\\\nService Desk Team']\",\n          \"['Dear <name>, \\\\n\\\\nThank you for reaching out. We have escalated your issue for priority handling. Someone from our team will contact you shortly to resolve this.\\\\n\\\\nBest regards,\\\\nCustomer Support', 'Dear <name>,\\\\n\\\\nWe apologize for the inconvenience. Please try disabling and re-enabling your extensions or reinstalling Visual Studio Code. If the issue persists, clear the cache and restart your system. Contact us if you need further assistance.\\\\n\\\\nBest regards,\\\\nSupport Team']\"\n        ],\n        \"semantic_type\": \"\",\n        \"description\": \"\"\n      }\n    },\n    {\n      \"column\": \"summary_top_k\",\n      \"properties\": {\n        \"dtype\": \"string\",\n        \"num_unique_values\": 10,\n        \"samples\": [\n          \"name>, We regret the inconvenience caused by the flickering screen on your Dell xPS 13 9310 . please try updating your graphics driver, adjusting display settings, or running a system diagnostic . if these steps don't work, contact our support team at tel_num> for further assistance .\",\n          \"IT Services Customer Support understands the urgency of the server downtime impacting your ticket system and IT Consulting Service operations . our team will provide immediate assistance to resolve the issue and restore normal functionality .\",\n          \"name>, We're sorry to hear about the freezing issues with visual studio code . please try updating to the latest version and disabling non-essential extensions . if the issue persists, reinstall the application or check for windows updates .\"\n        ],\n        \"semantic_type\": \"\",\n        \"description\": \"\"\n      }\n    },\n    {\n      \"column\": \"summary_top_p\",\n      \"properties\": {\n        \"dtype\": \"string\",\n        \"num_unique_values\": 10,\n        \"samples\": [\n          \"name>, We regret the inconvenience caused by the flickering screen on your Dell xps 13 9310 . please try updating your graphics driver, adjusting display settings, or running a system diagnostic . if these steps don't work, contact our support team at tel_num> for further assistance.\",\n          \"IT Services Customer Support received your report regarding the MySQL 8.0.30 database downtime . our team is prioritizing this issue and will work swiftly to restore service . we appreciate your patience and are here to help .\",\n          \"name>, We're sorry to hear about the freezing issues with visual studio code . please try updating to the latest version and disabling any non-essential extensions . if the issue persists, reinstall the application or check for windows updates .\"\n        ],\n        \"semantic_type\": \"\",\n        \"description\": \"\"\n      }\n    },\n    {\n      \"column\": \"summary_min_p\",\n      \"properties\": {\n        \"dtype\": \"string\",\n        \"num_unique_values\": 10,\n        \"samples\": [\n          \"name>, We regret the inconvenience caused by the flickering screen on your Dell xps 13 9310 . please try updating your graphics driver, adjusting display settings, or running a system diagnostic . if these steps don't work, contact our support team at tel_num> for further assistance.\",\n          \"server configuration changes for name>'s IT Consulting Service project will be prioritized . our team will provide immediate assistance to resolve the issue and restore normal functionality .\",\n          \"name>, we have escalated your issue for priority handling . someone from our team will contact you shortly to resolve this .\"\n        ],\n        \"semantic_type\": \"\",\n        \"description\": \"\"\n      }\n    }\n  ]\n}"
            }
          },
          "metadata": {},
          "execution_count": 5
        }
      ]
    },
    {
      "cell_type": "markdown",
      "source": [
        "#### Evaluations: We will use ROUGE, BLEU and BERTscore"
      ],
      "metadata": {
        "id": "y48_4f9lwOEk"
      }
    },
    {
      "cell_type": "code",
      "source": [
        "def evaluate_summary_rouge(generated_summary, ground_truth):\n",
        "    rouge = Rouge()\n",
        "    scores = rouge.get_scores(generated_summary, ground_truth)\n",
        "    return scores"
      ],
      "metadata": {
        "id": "t_VYka_bO1dL"
      },
      "execution_count": 12,
      "outputs": []
    },
    {
      "cell_type": "code",
      "source": [
        "# ROUGE calculation - we take average ROUGE-L for all the summaries\n",
        "rouge_tk = []\n",
        "rouge_tp = []\n",
        "rouge_mp = []\n",
        "\n",
        "for i in range(len(summary_results)):\n",
        "\n",
        "  # get gt\n",
        "  gt_res_top_k = \"\".join(summary_results['top_k_gt'].iloc[i])\n",
        "  gt_res_top_p = \"\".join(summary_results['top_p_gt'].iloc[i])\n",
        "  gt_res_min_p = \"\".join(summary_results['min_p_gt'].iloc[i])\n",
        "\n",
        "  # Evaluate\n",
        "  rouge_top_k = evaluate_summary_rouge(summary_results['summary_top_k'].iloc[i], gt_res_top_k)\n",
        "  rouge_top_p = evaluate_summary_rouge(summary_results['summary_top_p'].iloc[i], gt_res_top_p)\n",
        "  rouge_min_p = evaluate_summary_rouge(summary_results['summary_min_p'].iloc[i], gt_res_min_p)\n",
        "\n",
        "  # Store rouge-l\n",
        "  rouge_tk.append(rouge_top_k[0]['rouge-l']['r'])\n",
        "  rouge_tp.append(rouge_top_p[0]['rouge-l']['r'])\n",
        "  rouge_mp.append(rouge_min_p[0]['rouge-l']['r'])\n",
        "\n",
        "# calculate average\n",
        "avg_r_tk = np.mean(np.array(rouge_tk))\n",
        "avg_r_tp = np.mean(np.array(rouge_tp))\n",
        "avg_r_mp = np.mean(np.array(rouge_mp))\n",
        "\n",
        "\n",
        "print(f\"ROUGE Scores for Top-k : {avg_r_tk} \\n ROUGE Scores for Top-p : {avg_r_tp} \\n ROUGE Scores for min p : {avg_r_mp}\")\n"
      ],
      "metadata": {
        "colab": {
          "base_uri": "https://localhost:8080/"
        },
        "id": "JXCiOdqGO1aB",
        "outputId": "239c8968-67ac-4c58-f957-bd21197556b5"
      },
      "execution_count": 55,
      "outputs": [
        {
          "output_type": "stream",
          "name": "stdout",
          "text": [
            "ROUGE Scores for Top-k : 0.21599663850033446 \n",
            " ROUGE Scores for Top-p : 0.19031099431800516 \n",
            " ROUGE Scores for min p : 0.18203327658269622\n"
          ]
        }
      ]
    },
    {
      "cell_type": "code",
      "source": [
        "def evaluate_summary_bleu(generated_summary, ground_truth):\n",
        "    reference = ground_truth.split()\n",
        "    candidate = generated_summary.split()\n",
        "    score = sentence_bleu([reference], candidate)\n",
        "    return score"
      ],
      "metadata": {
        "id": "QbGhsNO8O1T7"
      },
      "execution_count": 56,
      "outputs": []
    },
    {
      "cell_type": "code",
      "source": [
        "# BLEU calculation - we take average BLEU of all the summaries\n",
        "bleu_tk = []\n",
        "bleu_tp = []\n",
        "bleu_mp = []\n",
        "\n",
        "for i in range(len(summary_results)):\n",
        "\n",
        "  # get gt\n",
        "  gt_res_top_k = \"\".join(summary_results['top_k_gt'].iloc[i])\n",
        "  gt_res_top_p = \"\".join(summary_results['top_p_gt'].iloc[i])\n",
        "  gt_res_min_p = \"\".join(summary_results['min_p_gt'].iloc[i])\n",
        "\n",
        "  # Evaluate\n",
        "  bleu_top_k = evaluate_summary_bleu(summary_results['summary_top_k'].iloc[i], gt_res_top_k)\n",
        "  bleu_top_p = evaluate_summary_bleu(summary_results['summary_top_p'].iloc[i], gt_res_top_p)\n",
        "  bleu_min_p = evaluate_summary_bleu(summary_results['summary_min_p'].iloc[i], gt_res_min_p)\n",
        "\n",
        "  # Store bleu\n",
        "  bleu_tk.append(bleu_top_k)\n",
        "  bleu_tp.append(bleu_top_p)\n",
        "  bleu_mp.append(bleu_min_p)\n",
        "\n",
        "\n",
        "# calculate average\n",
        "avg_bl_tk = np.mean(np.array(bleu_tk))\n",
        "avg_bl_tp = np.mean(np.array(bleu_tp))\n",
        "avg_bl_mp = np.mean(np.array(bleu_mp))\n",
        "\n",
        "\n",
        "print(f\"BLEU Scores for Top-k : {avg_bl_tk} \\n BLEU Scores for Top-p : {avg_bl_tp} \\n BLEU Scores for min p : {avg_bl_mp}\")\n"
      ],
      "metadata": {
        "colab": {
          "base_uri": "https://localhost:8080/"
        },
        "id": "AVc1xv4uO1Qo",
        "outputId": "5a3bec9f-dff3-4452-a4f0-8b8ec31fc413"
      },
      "execution_count": 57,
      "outputs": [
        {
          "output_type": "stream",
          "name": "stdout",
          "text": [
            "BLEU Scores for Top-k : 0.005051816320244709 \n",
            " BLEU Scores for Top-p : 0.0006624947740051266 \n",
            " BLEU Scores for min p : 0.008337198733564099\n"
          ]
        }
      ]
    },
    {
      "cell_type": "markdown",
      "source": [
        "#### Evaluation using BERTscore"
      ],
      "metadata": {
        "id": "J0yW-kJ6XLly"
      }
    },
    {
      "cell_type": "code",
      "source": [
        "!pip install bert-score"
      ],
      "metadata": {
        "colab": {
          "base_uri": "https://localhost:8080/"
        },
        "collapsed": true,
        "id": "aumTD2YBO1N8",
        "outputId": "5d1b6141-b60a-4b7f-b083-bf7d7745e7bd"
      },
      "execution_count": 36,
      "outputs": [
        {
          "output_type": "stream",
          "name": "stdout",
          "text": [
            "Collecting bert-score\n",
            "  Downloading bert_score-0.3.13-py3-none-any.whl.metadata (15 kB)\n",
            "Requirement already satisfied: torch>=1.0.0 in /usr/local/lib/python3.10/dist-packages (from bert-score) (2.4.0+cu121)\n",
            "Requirement already satisfied: pandas>=1.0.1 in /usr/local/lib/python3.10/dist-packages (from bert-score) (2.1.4)\n",
            "Requirement already satisfied: transformers>=3.0.0 in /usr/local/lib/python3.10/dist-packages (from bert-score) (4.42.4)\n",
            "Requirement already satisfied: numpy in /usr/local/lib/python3.10/dist-packages (from bert-score) (1.26.4)\n",
            "Requirement already satisfied: requests in /usr/local/lib/python3.10/dist-packages (from bert-score) (2.32.3)\n",
            "Requirement already satisfied: tqdm>=4.31.1 in /usr/local/lib/python3.10/dist-packages (from bert-score) (4.66.5)\n",
            "Requirement already satisfied: matplotlib in /usr/local/lib/python3.10/dist-packages (from bert-score) (3.7.1)\n",
            "Requirement already satisfied: packaging>=20.9 in /usr/local/lib/python3.10/dist-packages (from bert-score) (24.1)\n",
            "Requirement already satisfied: python-dateutil>=2.8.2 in /usr/local/lib/python3.10/dist-packages (from pandas>=1.0.1->bert-score) (2.8.2)\n",
            "Requirement already satisfied: pytz>=2020.1 in /usr/local/lib/python3.10/dist-packages (from pandas>=1.0.1->bert-score) (2024.1)\n",
            "Requirement already satisfied: tzdata>=2022.1 in /usr/local/lib/python3.10/dist-packages (from pandas>=1.0.1->bert-score) (2024.1)\n",
            "Requirement already satisfied: filelock in /usr/local/lib/python3.10/dist-packages (from torch>=1.0.0->bert-score) (3.15.4)\n",
            "Requirement already satisfied: typing-extensions>=4.8.0 in /usr/local/lib/python3.10/dist-packages (from torch>=1.0.0->bert-score) (4.12.2)\n",
            "Requirement already satisfied: sympy in /usr/local/lib/python3.10/dist-packages (from torch>=1.0.0->bert-score) (1.13.2)\n",
            "Requirement already satisfied: networkx in /usr/local/lib/python3.10/dist-packages (from torch>=1.0.0->bert-score) (3.3)\n",
            "Requirement already satisfied: jinja2 in /usr/local/lib/python3.10/dist-packages (from torch>=1.0.0->bert-score) (3.1.4)\n",
            "Requirement already satisfied: fsspec in /usr/local/lib/python3.10/dist-packages (from torch>=1.0.0->bert-score) (2024.6.1)\n",
            "Requirement already satisfied: huggingface-hub<1.0,>=0.23.2 in /usr/local/lib/python3.10/dist-packages (from transformers>=3.0.0->bert-score) (0.23.5)\n",
            "Requirement already satisfied: pyyaml>=5.1 in /usr/local/lib/python3.10/dist-packages (from transformers>=3.0.0->bert-score) (6.0.2)\n",
            "Requirement already satisfied: regex!=2019.12.17 in /usr/local/lib/python3.10/dist-packages (from transformers>=3.0.0->bert-score) (2024.5.15)\n",
            "Requirement already satisfied: safetensors>=0.4.1 in /usr/local/lib/python3.10/dist-packages (from transformers>=3.0.0->bert-score) (0.4.4)\n",
            "Requirement already satisfied: tokenizers<0.20,>=0.19 in /usr/local/lib/python3.10/dist-packages (from transformers>=3.0.0->bert-score) (0.19.1)\n",
            "Requirement already satisfied: contourpy>=1.0.1 in /usr/local/lib/python3.10/dist-packages (from matplotlib->bert-score) (1.2.1)\n",
            "Requirement already satisfied: cycler>=0.10 in /usr/local/lib/python3.10/dist-packages (from matplotlib->bert-score) (0.12.1)\n",
            "Requirement already satisfied: fonttools>=4.22.0 in /usr/local/lib/python3.10/dist-packages (from matplotlib->bert-score) (4.53.1)\n",
            "Requirement already satisfied: kiwisolver>=1.0.1 in /usr/local/lib/python3.10/dist-packages (from matplotlib->bert-score) (1.4.5)\n",
            "Requirement already satisfied: pillow>=6.2.0 in /usr/local/lib/python3.10/dist-packages (from matplotlib->bert-score) (9.4.0)\n",
            "Requirement already satisfied: pyparsing>=2.3.1 in /usr/local/lib/python3.10/dist-packages (from matplotlib->bert-score) (3.1.2)\n",
            "Requirement already satisfied: charset-normalizer<4,>=2 in /usr/local/lib/python3.10/dist-packages (from requests->bert-score) (3.3.2)\n",
            "Requirement already satisfied: idna<4,>=2.5 in /usr/local/lib/python3.10/dist-packages (from requests->bert-score) (3.7)\n",
            "Requirement already satisfied: urllib3<3,>=1.21.1 in /usr/local/lib/python3.10/dist-packages (from requests->bert-score) (2.0.7)\n",
            "Requirement already satisfied: certifi>=2017.4.17 in /usr/local/lib/python3.10/dist-packages (from requests->bert-score) (2024.7.4)\n",
            "Requirement already satisfied: six>=1.5 in /usr/local/lib/python3.10/dist-packages (from python-dateutil>=2.8.2->pandas>=1.0.1->bert-score) (1.16.0)\n",
            "Requirement already satisfied: MarkupSafe>=2.0 in /usr/local/lib/python3.10/dist-packages (from jinja2->torch>=1.0.0->bert-score) (2.1.5)\n",
            "Requirement already satisfied: mpmath<1.4,>=1.1.0 in /usr/local/lib/python3.10/dist-packages (from sympy->torch>=1.0.0->bert-score) (1.3.0)\n",
            "Downloading bert_score-0.3.13-py3-none-any.whl (61 kB)\n",
            "\u001b[2K   \u001b[90m━━━━━━━━━━━━━━━━━━━━━━━━━━━━━━━━━━━━━━━━\u001b[0m \u001b[32m61.1/61.1 kB\u001b[0m \u001b[31m2.2 MB/s\u001b[0m eta \u001b[36m0:00:00\u001b[0m\n",
            "\u001b[?25hInstalling collected packages: bert-score\n",
            "Successfully installed bert-score-0.3.13\n"
          ]
        }
      ]
    },
    {
      "cell_type": "code",
      "source": [
        "from bert_score import score\n",
        "from tqdm import tqdm\n",
        "\n",
        "# Example ground truth resolution\n",
        "bert_scores_tk = []\n",
        "bert_scores_tp = []\n",
        "bert_scores_mp = []\n",
        "\n",
        "for i in tqdm(range(len(summary_results))):\n",
        "\n",
        "  # get gt\n",
        "  gt_res_top_k = ast.literal_eval(summary_results['top_k_gt'].iloc[i])\n",
        "  gt_res_top_p = ast.literal_eval(summary_results['top_p_gt'].iloc[i])\n",
        "  gt_res_min_p = ast.literal_eval(summary_results['min_p_gt'].iloc[i])\n",
        "\n",
        "  # calculate BERT score\n",
        "  p_top_k, r_top_k, F1_top_k = score([summary_results['summary_top_k'].iloc[i]], [\"\".join(gt_res_top_k)], lang='en', verbose=False)\n",
        "  p_top_p, r_top_p, F1_top_p = score([summary_results['summary_top_p'].iloc[i]], [\"\".join(gt_res_top_p)], lang='en', verbose=False)\n",
        "  p_min_p, r_min_p, F1_min_p = score([summary_results['summary_min_p'].iloc[i]], [\"\".join(gt_res_min_p)], lang='en', verbose=False)\n",
        "\n",
        "  # Store bleu\n",
        "  bert_scores_tk.append({'precision': p_top_k, 'recall': r_top_k, 'f1-score': F1_top_k})\n",
        "  bert_scores_tp.append({'precision': p_top_p, 'recall': r_top_p, 'f1-score': F1_top_p})\n",
        "  bert_scores_mp.append({'precision': p_min_p, 'recall': r_min_p, 'f1-score': F1_min_p})\n",
        "\n"
      ],
      "metadata": {
        "colab": {
          "base_uri": "https://localhost:8080/",
          "height": 1000
        },
        "collapsed": true,
        "id": "QjZciCW3NJae",
        "outputId": "a240abda-a80c-4d61-a42d-89d7e4591de7"
      },
      "execution_count": 77,
      "outputs": [
        {
          "output_type": "stream",
          "name": "stderr",
          "text": [
            "\r  0%|          | 0/10 [00:00<?, ?it/s]Some weights of RobertaModel were not initialized from the model checkpoint at roberta-large and are newly initialized: ['roberta.pooler.dense.bias', 'roberta.pooler.dense.weight']\n",
            "You should probably TRAIN this model on a down-stream task to be able to use it for predictions and inference.\n",
            "Some weights of RobertaModel were not initialized from the model checkpoint at roberta-large and are newly initialized: ['roberta.pooler.dense.bias', 'roberta.pooler.dense.weight']\n",
            "You should probably TRAIN this model on a down-stream task to be able to use it for predictions and inference.\n",
            "Some weights of RobertaModel were not initialized from the model checkpoint at roberta-large and are newly initialized: ['roberta.pooler.dense.bias', 'roberta.pooler.dense.weight']\n",
            "You should probably TRAIN this model on a down-stream task to be able to use it for predictions and inference.\n",
            " 10%|█         | 1/10 [00:30<04:31, 30.16s/it]Some weights of RobertaModel were not initialized from the model checkpoint at roberta-large and are newly initialized: ['roberta.pooler.dense.bias', 'roberta.pooler.dense.weight']\n",
            "You should probably TRAIN this model on a down-stream task to be able to use it for predictions and inference.\n",
            "Some weights of RobertaModel were not initialized from the model checkpoint at roberta-large and are newly initialized: ['roberta.pooler.dense.bias', 'roberta.pooler.dense.weight']\n",
            "You should probably TRAIN this model on a down-stream task to be able to use it for predictions and inference.\n",
            "Some weights of RobertaModel were not initialized from the model checkpoint at roberta-large and are newly initialized: ['roberta.pooler.dense.bias', 'roberta.pooler.dense.weight']\n",
            "You should probably TRAIN this model on a down-stream task to be able to use it for predictions and inference.\n",
            " 20%|██        | 2/10 [00:53<03:27, 25.88s/it]Some weights of RobertaModel were not initialized from the model checkpoint at roberta-large and are newly initialized: ['roberta.pooler.dense.bias', 'roberta.pooler.dense.weight']\n",
            "You should probably TRAIN this model on a down-stream task to be able to use it for predictions and inference.\n",
            "Some weights of RobertaModel were not initialized from the model checkpoint at roberta-large and are newly initialized: ['roberta.pooler.dense.bias', 'roberta.pooler.dense.weight']\n",
            "You should probably TRAIN this model on a down-stream task to be able to use it for predictions and inference.\n",
            "Some weights of RobertaModel were not initialized from the model checkpoint at roberta-large and are newly initialized: ['roberta.pooler.dense.bias', 'roberta.pooler.dense.weight']\n",
            "You should probably TRAIN this model on a down-stream task to be able to use it for predictions and inference.\n",
            " 30%|███       | 3/10 [01:21<03:09, 27.00s/it]Some weights of RobertaModel were not initialized from the model checkpoint at roberta-large and are newly initialized: ['roberta.pooler.dense.bias', 'roberta.pooler.dense.weight']\n",
            "You should probably TRAIN this model on a down-stream task to be able to use it for predictions and inference.\n",
            "Some weights of RobertaModel were not initialized from the model checkpoint at roberta-large and are newly initialized: ['roberta.pooler.dense.bias', 'roberta.pooler.dense.weight']\n",
            "You should probably TRAIN this model on a down-stream task to be able to use it for predictions and inference.\n",
            "Some weights of RobertaModel were not initialized from the model checkpoint at roberta-large and are newly initialized: ['roberta.pooler.dense.bias', 'roberta.pooler.dense.weight']\n",
            "You should probably TRAIN this model on a down-stream task to be able to use it for predictions and inference.\n",
            " 40%|████      | 4/10 [01:48<02:41, 26.98s/it]Some weights of RobertaModel were not initialized from the model checkpoint at roberta-large and are newly initialized: ['roberta.pooler.dense.bias', 'roberta.pooler.dense.weight']\n",
            "You should probably TRAIN this model on a down-stream task to be able to use it for predictions and inference.\n",
            "Some weights of RobertaModel were not initialized from the model checkpoint at roberta-large and are newly initialized: ['roberta.pooler.dense.bias', 'roberta.pooler.dense.weight']\n",
            "You should probably TRAIN this model on a down-stream task to be able to use it for predictions and inference.\n",
            "Some weights of RobertaModel were not initialized from the model checkpoint at roberta-large and are newly initialized: ['roberta.pooler.dense.bias', 'roberta.pooler.dense.weight']\n",
            "You should probably TRAIN this model on a down-stream task to be able to use it for predictions and inference.\n",
            " 50%|█████     | 5/10 [02:16<02:17, 27.51s/it]Some weights of RobertaModel were not initialized from the model checkpoint at roberta-large and are newly initialized: ['roberta.pooler.dense.bias', 'roberta.pooler.dense.weight']\n",
            "You should probably TRAIN this model on a down-stream task to be able to use it for predictions and inference.\n",
            "Some weights of RobertaModel were not initialized from the model checkpoint at roberta-large and are newly initialized: ['roberta.pooler.dense.bias', 'roberta.pooler.dense.weight']\n",
            "You should probably TRAIN this model on a down-stream task to be able to use it for predictions and inference.\n",
            "Some weights of RobertaModel were not initialized from the model checkpoint at roberta-large and are newly initialized: ['roberta.pooler.dense.bias', 'roberta.pooler.dense.weight']\n",
            "You should probably TRAIN this model on a down-stream task to be able to use it for predictions and inference.\n",
            " 60%|██████    | 6/10 [02:36<01:39, 24.93s/it]Some weights of RobertaModel were not initialized from the model checkpoint at roberta-large and are newly initialized: ['roberta.pooler.dense.bias', 'roberta.pooler.dense.weight']\n",
            "You should probably TRAIN this model on a down-stream task to be able to use it for predictions and inference.\n",
            "Some weights of RobertaModel were not initialized from the model checkpoint at roberta-large and are newly initialized: ['roberta.pooler.dense.bias', 'roberta.pooler.dense.weight']\n",
            "You should probably TRAIN this model on a down-stream task to be able to use it for predictions and inference.\n",
            "Some weights of RobertaModel were not initialized from the model checkpoint at roberta-large and are newly initialized: ['roberta.pooler.dense.bias', 'roberta.pooler.dense.weight']\n",
            "You should probably TRAIN this model on a down-stream task to be able to use it for predictions and inference.\n",
            " 70%|███████   | 7/10 [03:05<01:19, 26.35s/it]Some weights of RobertaModel were not initialized from the model checkpoint at roberta-large and are newly initialized: ['roberta.pooler.dense.bias', 'roberta.pooler.dense.weight']\n",
            "You should probably TRAIN this model on a down-stream task to be able to use it for predictions and inference.\n",
            "Some weights of RobertaModel were not initialized from the model checkpoint at roberta-large and are newly initialized: ['roberta.pooler.dense.bias', 'roberta.pooler.dense.weight']\n",
            "You should probably TRAIN this model on a down-stream task to be able to use it for predictions and inference.\n",
            "Some weights of RobertaModel were not initialized from the model checkpoint at roberta-large and are newly initialized: ['roberta.pooler.dense.bias', 'roberta.pooler.dense.weight']\n",
            "You should probably TRAIN this model on a down-stream task to be able to use it for predictions and inference.\n",
            " 80%|████████  | 8/10 [03:35<00:54, 27.21s/it]Some weights of RobertaModel were not initialized from the model checkpoint at roberta-large and are newly initialized: ['roberta.pooler.dense.bias', 'roberta.pooler.dense.weight']\n",
            "You should probably TRAIN this model on a down-stream task to be able to use it for predictions and inference.\n",
            "Some weights of RobertaModel were not initialized from the model checkpoint at roberta-large and are newly initialized: ['roberta.pooler.dense.bias', 'roberta.pooler.dense.weight']\n",
            "You should probably TRAIN this model on a down-stream task to be able to use it for predictions and inference.\n",
            "Some weights of RobertaModel were not initialized from the model checkpoint at roberta-large and are newly initialized: ['roberta.pooler.dense.bias', 'roberta.pooler.dense.weight']\n",
            "You should probably TRAIN this model on a down-stream task to be able to use it for predictions and inference.\n",
            " 90%|█████████ | 9/10 [04:03<00:27, 27.66s/it]Some weights of RobertaModel were not initialized from the model checkpoint at roberta-large and are newly initialized: ['roberta.pooler.dense.bias', 'roberta.pooler.dense.weight']\n",
            "You should probably TRAIN this model on a down-stream task to be able to use it for predictions and inference.\n",
            "Some weights of RobertaModel were not initialized from the model checkpoint at roberta-large and are newly initialized: ['roberta.pooler.dense.bias', 'roberta.pooler.dense.weight']\n",
            "You should probably TRAIN this model on a down-stream task to be able to use it for predictions and inference.\n",
            "Some weights of RobertaModel were not initialized from the model checkpoint at roberta-large and are newly initialized: ['roberta.pooler.dense.bias', 'roberta.pooler.dense.weight']\n",
            "You should probably TRAIN this model on a down-stream task to be able to use it for predictions and inference.\n",
            "100%|██████████| 10/10 [04:30<00:00, 27.02s/it]\n"
          ]
        },
        {
          "output_type": "error",
          "ename": "NameError",
          "evalue": "name 'bert_score_mp' is not defined",
          "traceback": [
            "\u001b[0;31m---------------------------------------------------------------------------\u001b[0m",
            "\u001b[0;31mNameError\u001b[0m                                 Traceback (most recent call last)",
            "\u001b[0;32m<ipython-input-77-26a506670b34>\u001b[0m in \u001b[0;36m<cell line: 29>\u001b[0;34m()\u001b[0m\n\u001b[1;32m     27\u001b[0m \u001b[0mbert_scores_tk_df\u001b[0m \u001b[0;34m=\u001b[0m \u001b[0mpd\u001b[0m\u001b[0;34m.\u001b[0m\u001b[0mDataFrame\u001b[0m\u001b[0;34m(\u001b[0m\u001b[0mbert_scores_tk\u001b[0m\u001b[0;34m)\u001b[0m\u001b[0;34m\u001b[0m\u001b[0;34m\u001b[0m\u001b[0m\n\u001b[1;32m     28\u001b[0m \u001b[0mbert_scores_tp_df\u001b[0m \u001b[0;34m=\u001b[0m \u001b[0mpd\u001b[0m\u001b[0;34m.\u001b[0m\u001b[0mDataFrame\u001b[0m\u001b[0;34m(\u001b[0m\u001b[0mbert_scores_tp\u001b[0m\u001b[0;34m)\u001b[0m\u001b[0;34m\u001b[0m\u001b[0;34m\u001b[0m\u001b[0m\n\u001b[0;32m---> 29\u001b[0;31m \u001b[0mbert_scores_mp_df\u001b[0m \u001b[0;34m=\u001b[0m \u001b[0mpd\u001b[0m\u001b[0;34m.\u001b[0m\u001b[0mDataFrame\u001b[0m\u001b[0;34m(\u001b[0m\u001b[0mbert_score_mp\u001b[0m\u001b[0;34m)\u001b[0m\u001b[0;34m\u001b[0m\u001b[0;34m\u001b[0m\u001b[0m\n\u001b[0m\u001b[1;32m     30\u001b[0m \u001b[0;34m\u001b[0m\u001b[0m\n\u001b[1;32m     31\u001b[0m \u001b[0;31m# calculate average\u001b[0m\u001b[0;34m\u001b[0m\u001b[0;34m\u001b[0m\u001b[0m\n",
            "\u001b[0;31mNameError\u001b[0m: name 'bert_score_mp' is not defined"
          ]
        }
      ]
    },
    {
      "cell_type": "code",
      "source": [
        "# put scores in df\n",
        "bert_scores_tk_df = pd.DataFrame(bert_scores_tk)\n",
        "bert_scores_tp_df = pd.DataFrame(bert_scores_tp)\n",
        "bert_scores_mp_df = pd.DataFrame(bert_scores_mp)\n",
        "\n",
        "# calculate average\n",
        "avg_f1_tk = bert_scores_tk_df['f1-score'].mean()\n",
        "avg_f1_tp = bert_scores_tp_df['f1-score'].mean()\n",
        "avg_f1_mp = bert_scores_mp_df['f1-score'].mean()\n",
        "\n",
        "# Display BERTScore results\n",
        "print(f\"F1 Scores for Top-k : {avg_f1_tk} \\n F1 Scores for Top-p : {avg_f1_tp} \\n F1 Scores for min p : {avg_f1_mp}\")"
      ],
      "metadata": {
        "colab": {
          "base_uri": "https://localhost:8080/"
        },
        "id": "4NG7BloQnDzK",
        "outputId": "a146b75d-f019-4678-919f-f1b2427e7593"
      },
      "execution_count": 79,
      "outputs": [
        {
          "output_type": "stream",
          "name": "stdout",
          "text": [
            "F1 Scores for Top-k : 0.8576225280761719 \n",
            " F1 Scores for Top-p : 0.8504076957702636 \n",
            " F1 Scores for min p : 0.8488237380981445\n"
          ]
        }
      ]
    },
    {
      "cell_type": "code",
      "source": [
        "# calculate average\n",
        "avg_pre_tk = bert_scores_tk_df['precision'].mean()\n",
        "avg_pre_tp = bert_scores_tp_df['precision'].mean()\n",
        "avg_pre_mp = bert_scores_mp_df['precision'].mean()\n",
        "\n",
        "# Display BERTScore results\n",
        "print(f\"Precision for Top-k : {avg_pre_tk} \\n Precision for Top-p : {avg_pre_tp} \\n Precision for min p : {avg_pre_mp}\")"
      ],
      "metadata": {
        "colab": {
          "base_uri": "https://localhost:8080/"
        },
        "id": "HgrFFN7KnDwH",
        "outputId": "d7171ba6-b3b1-40b4-ce76-2f0ba20b96a7"
      },
      "execution_count": 81,
      "outputs": [
        {
          "output_type": "stream",
          "name": "stdout",
          "text": [
            "Precision for Top-k : 0.9117547988891601 \n",
            " Precision for Top-p : 0.9069196701049804 \n",
            " Precision for min p : 0.9020003318786621\n"
          ]
        }
      ]
    },
    {
      "cell_type": "code",
      "source": [
        "# calculate average\n",
        "avg_rec_tk = bert_scores_tk_df['recall'].mean()\n",
        "avg_rec_tp = bert_scores_tp_df['recall'].mean()\n",
        "avg_rec_mp = bert_scores_mp_df['recall'].mean()\n",
        "\n",
        "# Display BERTScore results\n",
        "print(f\"recall for Top-k : {avg_rec_tk} \\n recall for Top-p : {avg_rec_tp} \\n recall for min p : {avg_rec_mp}\")"
      ],
      "metadata": {
        "colab": {
          "base_uri": "https://localhost:8080/"
        },
        "id": "6_DF604EnDtG",
        "outputId": "58a05fb1-e959-44b6-aa4a-41c7580d316b"
      },
      "execution_count": 82,
      "outputs": [
        {
          "output_type": "stream",
          "name": "stdout",
          "text": [
            "recall for Top-k : 0.8097028732299805 \n",
            " recall for Top-p : 0.8006174087524414 \n",
            " recall for min p : 0.8016838073730469\n"
          ]
        }
      ]
    },
    {
      "cell_type": "code",
      "source": [],
      "metadata": {
        "id": "GxCand_4bspJ"
      },
      "execution_count": null,
      "outputs": []
    },
    {
      "cell_type": "code",
      "source": [],
      "metadata": {
        "id": "gGBWoQB-bsmk"
      },
      "execution_count": null,
      "outputs": []
    },
    {
      "cell_type": "code",
      "execution_count": null,
      "metadata": {
        "id": "qLH0epEX5CXf"
      },
      "outputs": [],
      "source": []
    }
  ]
}